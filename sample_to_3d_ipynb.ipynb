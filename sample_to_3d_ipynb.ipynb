{
  "nbformat": 4,
  "nbformat_minor": 0,
  "metadata": {
    "colab": {
      "private_outputs": true,
      "provenance": [],
      "collapsed_sections": [
        "ZMywNF_tgcmm",
        "dL-olX0WdvJV",
        "lO23lwUNdxXk"
      ],
      "gpuType": "T4"
    },
    "kernelspec": {
      "name": "python3",
      "display_name": "Python 3"
    },
    "language_info": {
      "name": "python"
    },
    "accelerator": "GPU",
    "gpuClass": "standard"
  },
  "cells": [
    {
      "cell_type": "markdown",
      "source": [
        "# Shap-E\n",
        "\n",
        "Objective: to generate 3D objects conditioned on text or images.\n",
        "\n",
        "Reference: https://github.com/openai/shap-e"
      ],
      "metadata": {
        "id": "ygcEk0EhgQBn"
      }
    },
    {
      "cell_type": "markdown",
      "source": [
        "## Install Python packages"
      ],
      "metadata": {
        "id": "ZMywNF_tgcmm"
      }
    },
    {
      "cell_type": "code",
      "execution_count": null,
      "metadata": {
        "id": "IgY6MDSvcB_s"
      },
      "outputs": [],
      "source": [
        "%pip install -qq git+https://github.com/openai/shap-e.git \n",
        "%pip install -qq mediapy"
      ]
    },
    {
      "cell_type": "markdown",
      "source": [
        "## Prepare the models"
      ],
      "metadata": {
        "id": "oAWq7DuNdrlH"
      }
    },
    {
      "cell_type": "code",
      "source": [
        "import torch\n",
        "\n",
        "from shap_e.diffusion.sample import sample_latents\n",
        "from shap_e.diffusion.gaussian_diffusion import diffusion_from_config\n",
        "from shap_e.models.download import load_model, load_config\n",
        "from shap_e.util.notebooks import create_pan_cameras, decode_latent_images, gif_widget\n",
        "\n",
        "device = torch.device('cuda' if torch.cuda.is_available() else 'cpu')\n",
        "\n",
        "xm = load_model('transmitter', device=device)\n",
        "model = load_model('text300M', device=device)\n",
        "diffusion = diffusion_from_config(load_config('diffusion'))"
      ],
      "metadata": {
        "id": "ZelVriJQcdez"
      },
      "execution_count": null,
      "outputs": []
    },
    {
      "cell_type": "markdown",
      "source": [
        "## Define a wrapper"
      ],
      "metadata": {
        "id": "Hgh_-Q6qhCzm"
      }
    },
    {
      "cell_type": "code",
      "source": [
        "def sample_wrapper(\n",
        "    text = \"a shark\",\n",
        "    image = None,\n",
        "    guidance_scale = None,\n",
        "    batch_size = 4,\n",
        "  ):\n",
        "  \n",
        "  if image is None:\n",
        "    model_kwargs=dict(texts=[text] * batch_size)\n",
        "    if guidance_scale is None:\n",
        "      guidance_scale = 15.0\n",
        "  else:\n",
        "    model_kwargs=dict(images=[image] * batch_size)\n",
        "    if guidance_scale is None:\n",
        "      guidance_scale = 3.0\n",
        "\n",
        "  latents = sample_latents(\n",
        "      batch_size=batch_size,\n",
        "      model=model,\n",
        "      diffusion=diffusion,\n",
        "      guidance_scale=guidance_scale,\n",
        "      model_kwargs=model_kwargs,\n",
        "      progress=True,\n",
        "      clip_denoised=True,\n",
        "      use_fp16=True,\n",
        "      use_karras=True,\n",
        "      karras_steps=64,\n",
        "      sigma_min=1e-3,\n",
        "      sigma_max=160,\n",
        "      s_churn=0,\n",
        "  )\n",
        "\n",
        "  return latents"
      ],
      "metadata": {
        "id": "NFibWJaGd_Wp"
      },
      "execution_count": null,
      "outputs": []
    },
    {
      "cell_type": "markdown",
      "source": [
        "## Sample a 3D model"
      ],
      "metadata": {
        "id": "V0UL0t2HgJBg"
      }
    },
    {
      "cell_type": "markdown",
      "source": [
        "### Conditioned on a text prompt"
      ],
      "metadata": {
        "id": "dL-olX0WdvJV"
      }
    },
    {
      "cell_type": "code",
      "source": [
        "text = \"a shark\"\n",
        "\n",
        "latents = sample_wrapper(\n",
        "    text = text,\n",
        "    guidance_scale = 15.0,\n",
        ")"
      ],
      "metadata": {
        "id": "cgHkdxRAcqRm"
      },
      "execution_count": null,
      "outputs": []
    },
    {
      "cell_type": "markdown",
      "source": [
        "### Conditioned on an image prompt"
      ],
      "metadata": {
        "id": "lO23lwUNdxXk"
      }
    },
    {
      "cell_type": "code",
      "source": [
        "import mediapy as media\n",
        "\n",
        "image_url = \"https://raw.githubusercontent.com/openai/shap-e/main/shap_e/examples/example_data/corgi.png\"\n",
        "image = media.read_image(image_url)\n",
        "\n",
        "media.show_image(image)\n",
        "\n",
        "latents = sample_wrapper(\n",
        "    image = image,\n",
        "    guidance_scale = 3.0,\n",
        ")"
      ],
      "metadata": {
        "id": "9w_C-eB1c9Hg"
      },
      "execution_count": null,
      "outputs": []
    },
    {
      "cell_type": "markdown",
      "source": [
        "## Render"
      ],
      "metadata": {
        "id": "Yfktshvidytk"
      }
    },
    {
      "cell_type": "code",
      "source": [
        "render_mode = 'nerf' # you can change this to 'stf'\n",
        "size = 64 # this is the size of the renders; higher values take longer to render.\n",
        "\n",
        "cameras = create_pan_cameras(size, device)\n",
        "for i, latent in enumerate(latents):\n",
        "    images = decode_latent_images(xm, latent, cameras, rendering_mode=render_mode)\n",
        "    display(gif_widget(images))"
      ],
      "metadata": {
        "id": "BV-m3ByccvPW"
      },
      "execution_count": null,
      "outputs": []
    },
    {
      "cell_type": "markdown",
      "source": [
        "## Save the latents as meshes"
      ],
      "metadata": {
        "id": "wK8w35wDd1ji"
      }
    },
    {
      "cell_type": "code",
      "source": [
        "from shap_e.util.notebooks import decode_latent_mesh\n",
        "\n",
        "for i, latent in enumerate(latents):\n",
        "    with open(f'example_mesh_{i}.ply', 'wb') as f:\n",
        "        decode_latent_mesh(xm, latent).tri_mesh().write_ply(f)"
      ],
      "metadata": {
        "id": "XoZUPfYpcxGR"
      },
      "execution_count": null,
      "outputs": []
    }
  ]
}